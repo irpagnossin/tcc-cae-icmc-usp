{
 "cells": [
  {
   "cell_type": "code",
   "execution_count": 1,
   "metadata": {},
   "outputs": [],
   "source": [
    "import pandas as pd\n",
    "from pandas_profiling import ProfileReport\n",
    "import matplotlib.pyplot as plt\n",
    "\n",
    "%matplotlib inline"
   ]
  },
  {
   "cell_type": "markdown",
   "metadata": {},
   "source": [
    "# Análise exploratória de Data Analytics"
   ]
  },
  {
   "cell_type": "code",
   "execution_count": 2,
   "metadata": {},
   "outputs": [
    {
     "data": {
      "text/html": [
       "<div>\n",
       "<style scoped>\n",
       "    .dataframe tbody tr th:only-of-type {\n",
       "        vertical-align: middle;\n",
       "    }\n",
       "\n",
       "    .dataframe tbody tr th {\n",
       "        vertical-align: top;\n",
       "    }\n",
       "\n",
       "    .dataframe thead th {\n",
       "        text-align: right;\n",
       "    }\n",
       "</style>\n",
       "<table border=\"1\" class=\"dataframe\">\n",
       "  <thead>\n",
       "    <tr style=\"text-align: right;\">\n",
       "      <th></th>\n",
       "      <th>turma</th>\n",
       "      <th>date</th>\n",
       "      <th>student</th>\n",
       "      <th>topicos</th>\n",
       "      <th>component</th>\n",
       "      <th>relevance</th>\n",
       "      <th>learn</th>\n",
       "      <th>satisfaction</th>\n",
       "      <th>pace</th>\n",
       "      <th>tool</th>\n",
       "      <th>algorithm</th>\n",
       "    </tr>\n",
       "  </thead>\n",
       "  <tbody>\n",
       "    <tr>\n",
       "      <th>0</th>\n",
       "      <td>2</td>\n",
       "      <td>2019-04-18</td>\n",
       "      <td>426</td>\n",
       "      <td>como capturar os dados (fontes de dados)</td>\n",
       "      <td>Fontes de dados</td>\n",
       "      <td>0.5</td>\n",
       "      <td>0.25</td>\n",
       "      <td>0.666667</td>\n",
       "      <td>0.5</td>\n",
       "      <td>False</td>\n",
       "      <td>False</td>\n",
       "    </tr>\n",
       "    <tr>\n",
       "      <th>1</th>\n",
       "      <td>2</td>\n",
       "      <td>2019-04-18</td>\n",
       "      <td>426</td>\n",
       "      <td>web scrapping</td>\n",
       "      <td>Fontes de dados</td>\n",
       "      <td>0.5</td>\n",
       "      <td>0.50</td>\n",
       "      <td>0.666667</td>\n",
       "      <td>0.5</td>\n",
       "      <td>False</td>\n",
       "      <td>False</td>\n",
       "    </tr>\n",
       "    <tr>\n",
       "      <th>2</th>\n",
       "      <td>2</td>\n",
       "      <td>2019-04-18</td>\n",
       "      <td>426</td>\n",
       "      <td>fórmulas avançadas (IF. VLOOKUP. COUNTIFS. SUM...</td>\n",
       "      <td>Ferramenta</td>\n",
       "      <td>0.5</td>\n",
       "      <td>0.25</td>\n",
       "      <td>0.666667</td>\n",
       "      <td>0.5</td>\n",
       "      <td>True</td>\n",
       "      <td>False</td>\n",
       "    </tr>\n",
       "    <tr>\n",
       "      <th>3</th>\n",
       "      <td>2</td>\n",
       "      <td>2019-04-18</td>\n",
       "      <td>426</td>\n",
       "      <td>lógica de programação</td>\n",
       "      <td>Lógica/Programação</td>\n",
       "      <td>0.5</td>\n",
       "      <td>0.25</td>\n",
       "      <td>0.666667</td>\n",
       "      <td>0.5</td>\n",
       "      <td>False</td>\n",
       "      <td>False</td>\n",
       "    </tr>\n",
       "    <tr>\n",
       "      <th>4</th>\n",
       "      <td>2</td>\n",
       "      <td>2019-04-18</td>\n",
       "      <td>438</td>\n",
       "      <td>como capturar os dados (fontes de dados)</td>\n",
       "      <td>Fontes de dados</td>\n",
       "      <td>0.5</td>\n",
       "      <td>1.00</td>\n",
       "      <td>1.000000</td>\n",
       "      <td>1.0</td>\n",
       "      <td>False</td>\n",
       "      <td>False</td>\n",
       "    </tr>\n",
       "  </tbody>\n",
       "</table>\n",
       "</div>"
      ],
      "text/plain": [
       "   turma       date  student  \\\n",
       "0      2 2019-04-18      426   \n",
       "1      2 2019-04-18      426   \n",
       "2      2 2019-04-18      426   \n",
       "3      2 2019-04-18      426   \n",
       "4      2 2019-04-18      438   \n",
       "\n",
       "                                             topicos           component  \\\n",
       "0           como capturar os dados (fontes de dados)     Fontes de dados   \n",
       "1                                      web scrapping     Fontes de dados   \n",
       "2  fórmulas avançadas (IF. VLOOKUP. COUNTIFS. SUM...          Ferramenta   \n",
       "3                              lógica de programação  Lógica/Programação   \n",
       "4           como capturar os dados (fontes de dados)     Fontes de dados   \n",
       "\n",
       "   relevance  learn  satisfaction  pace   tool  algorithm  \n",
       "0        0.5   0.25      0.666667   0.5  False      False  \n",
       "1        0.5   0.50      0.666667   0.5  False      False  \n",
       "2        0.5   0.25      0.666667   0.5   True      False  \n",
       "3        0.5   0.25      0.666667   0.5  False      False  \n",
       "4        0.5   1.00      1.000000   1.0  False      False  "
      ]
     },
     "execution_count": 2,
     "metadata": {},
     "output_type": "execute_result"
    }
   ],
   "source": [
    "da = pd.read_csv('tidy-data-analytics.csv', parse_dates=['date'])\n",
    "da.head()"
   ]
  },
  {
   "cell_type": "markdown",
   "metadata": {},
   "source": [
    "## Tipos de dados\n",
    "\n",
    "Primeiramente checamos se cada feature foi representada com o tipo de dado apropriado:"
   ]
  },
  {
   "cell_type": "code",
   "execution_count": 3,
   "metadata": {},
   "outputs": [
    {
     "data": {
      "text/plain": [
       "turma                    int64\n",
       "date            datetime64[ns]\n",
       "student                  int64\n",
       "topicos                 object\n",
       "component               object\n",
       "relevance              float64\n",
       "learn                  float64\n",
       "satisfaction           float64\n",
       "pace                   float64\n",
       "tool                      bool\n",
       "algorithm                 bool\n",
       "dtype: object"
      ]
     },
     "execution_count": 3,
     "metadata": {},
     "output_type": "execute_result"
    }
   ],
   "source": [
    "da.dtypes"
   ]
  },
  {
   "cell_type": "markdown",
   "metadata": {},
   "source": [
    "## Profiling do conjunto de dados\n",
    "\n",
    "Em seguida utilizamos o pacote `pandas-profiling` para gerar uma análise exploratória padronizada desse conjunto de dados."
   ]
  },
  {
   "cell_type": "code",
   "execution_count": 4,
   "metadata": {},
   "outputs": [],
   "source": [
    "prof = ProfileReport(da)\n",
    "prof.to_file(output_file='da_eda.html')"
   ]
  },
  {
   "cell_type": "markdown",
   "metadata": {},
   "source": [
    "## Aprendizagem, relevância, ritmo e satisfação\n",
    "\n",
    "Uma possível abordagem é procurar uma relação entre aprendizagem, relevância, ritmo e satisfação, visando prever a aprendizagem em função de parâmetros que podem ser mais facilmente manipulados. Abaixo, então, visamos identificar visualmente alguma relação entre essas _features_. Se houver algo visualmente evidente, possivelmente seremos capazes de encontrar um modelo matemático para descrever essa relação.\n",
    "\n",
    "Começamos definindo uma função para desenhar um gráfico de bolhas para cada par de _features of interest_ (`foi`):"
   ]
  },
  {
   "cell_type": "code",
   "execution_count": 5,
   "metadata": {},
   "outputs": [],
   "source": [
    "def bubble(foi_x, foi_y):\n",
    "    \"\"\"\n",
    "    Desenha um gráfico de bolhas das duas _features of interest_ (foi)\n",
    "    \"\"\"\n",
    "    subset = da[[foi_x, foi_y]].value_counts().rename('n').reset_index()\n",
    "\n",
    "    plt.figure(figsize=(12, 8))\n",
    "    plt.scatter(subset[foi_x], subset[foi_y], s=subset.n, color='darkblue', alpha=0.3)\n",
    "    plt.show()"
   ]
  },
  {
   "cell_type": "markdown",
   "metadata": {},
   "source": [
    "### Relevância _versus_ aprendizagem"
   ]
  },
  {
   "cell_type": "code",
   "execution_count": 6,
   "metadata": {},
   "outputs": [
    {
     "data": {
      "image/png": "[encoded data removed]",
      "text/plain": [
       "<Figure size 864x576 with 1 Axes>"
      ]
     },
     "metadata": {
      "needs_background": "light"
     },
     "output_type": "display_data"
    }
   ],
   "source": [
    "bubble('relevance', 'learn')"
   ]
  },
  {
   "cell_type": "markdown",
   "metadata": {},
   "source": [
    "### Ritmo _versus_ aprendizagem"
   ]
  },
  {
   "cell_type": "code",
   "execution_count": 7,
   "metadata": {},
   "outputs": [
    {
     "data": {
      "image/png": "[encoded data removed]",
      "text/plain": [
       "<Figure size 864x576 with 1 Axes>"
      ]
     },
     "metadata": {
      "needs_background": "light"
     },
     "output_type": "display_data"
    }
   ],
   "source": [
    "bubble('pace', 'learn')"
   ]
  },
  {
   "cell_type": "markdown",
   "metadata": {},
   "source": [
    "### Satisfação _versus_ aprendizagem"
   ]
  },
  {
   "cell_type": "code",
   "execution_count": 8,
   "metadata": {},
   "outputs": [
    {
     "data": {
      "image/png": "[encoded data removed]",
      "text/plain": [
       "<Figure size 864x576 with 1 Axes>"
      ]
     },
     "metadata": {
      "needs_background": "light"
     },
     "output_type": "display_data"
    }
   ],
   "source": [
    "bubble('satisfaction', 'learn')"
   ]
  },
  {
   "cell_type": "markdown",
   "metadata": {},
   "source": [
    "Devido à escala Likert utilizada para medir cada uma das _features_, não podemos utilizar um regressor para encontrar alguma função `aprendizagem = f(ritmo, relevância, satisfação)`. Mas os gráficos acima sugerem que há aglomerações recorrentes. Por exemplo, não há aprendizagem quando a satisfação é próxima de zero ou quando o ritmo é muito lento. Em vista disso, talvez possamos encontrar algum modelo de agrupamento (_clustering_)."
   ]
  },
  {
   "cell_type": "code",
   "execution_count": null,
   "metadata": {},
   "outputs": [],
   "source": []
  }
 ],
 "metadata": {
  "kernelspec": {
   "display_name": "Python 3",
   "language": "python",
   "name": "python3"
  },
  "language_info": {
   "codemirror_mode": {
    "name": "ipython",
    "version": 3
   },
   "file_extension": ".py",
   "mimetype": "text/x-python",
   "name": "python",
   "nbconvert_exporter": "python",
   "pygments_lexer": "ipython3",
   "version": "3.8.5"
  }
 },
 "nbformat": 4,
 "nbformat_minor": 4
}
