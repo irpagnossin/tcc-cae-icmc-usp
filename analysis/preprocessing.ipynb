{
 "cells": [
  {
   "cell_type": "code",
   "execution_count": 40,
   "metadata": {},
   "outputs": [],
   "source": [
    "import pandas as pd\n",
    "import numpy as np\n",
    "import matplotlib.pyplot as plt\n",
    "import re\n",
    "from sklearn.preprocessing import minmax_scale, LabelEncoder\n",
    "import seaborn as sns\n",
    "\n",
    "%matplotlib inline"
   ]
  },
  {
   "cell_type": "code",
   "execution_count": 41,
   "metadata": {},
   "outputs": [],
   "source": [
    "from normalize_component import normalize_component"
   ]
  },
  {
   "cell_type": "code",
   "execution_count": 42,
   "metadata": {},
   "outputs": [],
   "source": [
    "raw = pd.read_csv('tidy.csv', delimiter=';', parse_dates=['date'])"
   ]
  },
  {
   "cell_type": "code",
   "execution_count": 43,
   "metadata": {},
   "outputs": [
    {
     "data": {
      "text/html": [
       "<div>\n",
       "<style scoped>\n",
       "    .dataframe tbody tr th:only-of-type {\n",
       "        vertical-align: middle;\n",
       "    }\n",
       "\n",
       "    .dataframe tbody tr th {\n",
       "        vertical-align: top;\n",
       "    }\n",
       "\n",
       "    .dataframe thead th {\n",
       "        text-align: right;\n",
       "    }\n",
       "</style>\n",
       "<table border=\"1\" class=\"dataframe\">\n",
       "  <thead>\n",
       "    <tr style=\"text-align: right;\">\n",
       "      <th></th>\n",
       "      <th>turma</th>\n",
       "      <th>date</th>\n",
       "      <th>student</th>\n",
       "      <th>satisfaction</th>\n",
       "      <th>pace</th>\n",
       "      <th>relevance</th>\n",
       "      <th>component</th>\n",
       "      <th>learn</th>\n",
       "    </tr>\n",
       "  </thead>\n",
       "  <tbody>\n",
       "    <tr>\n",
       "      <th>0</th>\n",
       "      <td>S0219</td>\n",
       "      <td>2019-04-18 00:00:00+03:00</td>\n",
       "      <td>Aluno 25</td>\n",
       "      <td>7.0</td>\n",
       "      <td>3.0</td>\n",
       "      <td>4.0</td>\n",
       "      <td>aplicações de clusterização de dados</td>\n",
       "      <td>1.0</td>\n",
       "    </tr>\n",
       "    <tr>\n",
       "      <th>1</th>\n",
       "      <td>S0219</td>\n",
       "      <td>2019-04-18 00:00:00+03:00</td>\n",
       "      <td>Aluno 25</td>\n",
       "      <td>7.0</td>\n",
       "      <td>3.0</td>\n",
       "      <td>4.0</td>\n",
       "      <td>MeanShift e DBSCAN</td>\n",
       "      <td>2.0</td>\n",
       "    </tr>\n",
       "    <tr>\n",
       "      <th>2</th>\n",
       "      <td>S0219</td>\n",
       "      <td>2019-04-18 00:00:00+03:00</td>\n",
       "      <td>Aluno 47</td>\n",
       "      <td>8.0</td>\n",
       "      <td>4.0</td>\n",
       "      <td>5.0</td>\n",
       "      <td>aplicações de clusterização de dados</td>\n",
       "      <td>1.0</td>\n",
       "    </tr>\n",
       "    <tr>\n",
       "      <th>3</th>\n",
       "      <td>S0219</td>\n",
       "      <td>2019-04-18 00:00:00+03:00</td>\n",
       "      <td>Aluno 47</td>\n",
       "      <td>8.0</td>\n",
       "      <td>4.0</td>\n",
       "      <td>5.0</td>\n",
       "      <td>MeanShift e DBSCAN</td>\n",
       "      <td>2.0</td>\n",
       "    </tr>\n",
       "    <tr>\n",
       "      <th>4</th>\n",
       "      <td>S0219</td>\n",
       "      <td>2019-04-18 00:00:00+03:00</td>\n",
       "      <td>Aluno 32</td>\n",
       "      <td>6.0</td>\n",
       "      <td>4.0</td>\n",
       "      <td>4.0</td>\n",
       "      <td>aplicações de clusterização de dados</td>\n",
       "      <td>1.0</td>\n",
       "    </tr>\n",
       "    <tr>\n",
       "      <th>5</th>\n",
       "      <td>S0219</td>\n",
       "      <td>2019-04-18 00:00:00+03:00</td>\n",
       "      <td>Aluno 32</td>\n",
       "      <td>6.0</td>\n",
       "      <td>4.0</td>\n",
       "      <td>4.0</td>\n",
       "      <td>MeanShift e DBSCAN</td>\n",
       "      <td>1.0</td>\n",
       "    </tr>\n",
       "  </tbody>\n",
       "</table>\n",
       "</div>"
      ],
      "text/plain": [
       "   turma                      date   student  satisfaction  pace  relevance  \\\n",
       "0  S0219 2019-04-18 00:00:00+03:00  Aluno 25           7.0   3.0        4.0   \n",
       "1  S0219 2019-04-18 00:00:00+03:00  Aluno 25           7.0   3.0        4.0   \n",
       "2  S0219 2019-04-18 00:00:00+03:00  Aluno 47           8.0   4.0        5.0   \n",
       "3  S0219 2019-04-18 00:00:00+03:00  Aluno 47           8.0   4.0        5.0   \n",
       "4  S0219 2019-04-18 00:00:00+03:00  Aluno 32           6.0   4.0        4.0   \n",
       "5  S0219 2019-04-18 00:00:00+03:00  Aluno 32           6.0   4.0        4.0   \n",
       "\n",
       "                              component  learn  \n",
       "0  aplicações de clusterização de dados    1.0  \n",
       "1                    MeanShift e DBSCAN    2.0  \n",
       "2  aplicações de clusterização de dados    1.0  \n",
       "3                    MeanShift e DBSCAN    2.0  \n",
       "4  aplicações de clusterização de dados    1.0  \n",
       "5                    MeanShift e DBSCAN    1.0  "
      ]
     },
     "execution_count": 43,
     "metadata": {},
     "output_type": "execute_result"
    }
   ],
   "source": [
    "raw.head(6)"
   ]
  },
  {
   "cell_type": "code",
   "execution_count": 44,
   "metadata": {},
   "outputs": [
    {
     "data": {
      "text/plain": [
       "turma                                          object\n",
       "date            datetime64[ns, pytz.FixedOffset(180)]\n",
       "student                                        object\n",
       "satisfaction                                  float64\n",
       "pace                                          float64\n",
       "relevance                                     float64\n",
       "component                                      object\n",
       "learn                                         float64\n",
       "dtype: object"
      ]
     },
     "execution_count": 44,
     "metadata": {},
     "output_type": "execute_result"
    }
   ],
   "source": [
    "raw.dtypes"
   ]
  },
  {
   "cell_type": "code",
   "execution_count": 45,
   "metadata": {},
   "outputs": [],
   "source": [
    "raw = raw[raw.turma.apply(lambda t: t[0] == 'A' or t[0] == 'S')].dropna()\n",
    "#raw = raw[raw.learn >= 0]"
   ]
  },
  {
   "cell_type": "code",
   "execution_count": 46,
   "metadata": {},
   "outputs": [],
   "source": [
    "turma_encoder = LabelEncoder()\n",
    "turma_encoder.fit(raw.turma)\n",
    "\n",
    "df = pd.DataFrame(data={\n",
    "    # Curso: Data Analytics (DA) ou Data Science (DS)\n",
    "    'course': raw.turma.apply(lambda t: 'DA' if t[0] == 'A' else 'DS'),\n",
    "    \n",
    "    # A turma (só o número)\n",
    "    'turma': turma_encoder.transform(raw.turma),\n",
    "    \n",
    "    # Apenas a data\n",
    "    'date': raw.date.apply(lambda t: t.date()),\n",
    "        \n",
    "    # O ID do aluno (só o número)\n",
    "    'student': raw.student.apply(lambda s: int(re.search('Aluno (\\d*)', s, re.IGNORECASE).group(1))),\n",
    "    \n",
    "    # Componente de conhecimento\n",
    "    'topicos': raw.component.apply(lambda text: re.sub(' +', ' ', text).replace(\"'s\", '')),\n",
    "    \n",
    "    # Componente de conhecimento\n",
    "    'component': raw.component.apply(normalize_component),\n",
    "    \n",
    "    # Relevância, normalizada no intervalo [0,1]\n",
    "    'relevance': minmax_scale(raw.relevance, (0,10)).astype(np.int32),\n",
    "    \n",
    "    # Aprendizagem\n",
    "    'learn': raw.learn.astype(np.int32),\n",
    "    \n",
    "    # Satisfação, normalizada no intervalo [0,1]\n",
    "    'satisfaction': minmax_scale(raw.satisfaction, (0,10)).astype(np.int32),\n",
    "    \n",
    "    # Ritmo, normalizado no intervalo [0,1]\n",
    "    'pace': minmax_scale(raw.pace, (0,10)).astype(np.int32),\n",
    "})"
   ]
  },
  {
   "cell_type": "markdown",
   "metadata": {},
   "source": [
    "# Atributo \"Ferramenta\"\n",
    "\n",
    "A partir da componente de cada amostra, deduzimos se a amostra refere-se a uma aula que envolveu ferramenta ou não."
   ]
  },
  {
   "cell_type": "code",
   "execution_count": 47,
   "metadata": {},
   "outputs": [],
   "source": [
    "@np.vectorize\n",
    "def tool(component):\n",
    "    return 'Ferramenta' in component"
   ]
  },
  {
   "cell_type": "code",
   "execution_count": 48,
   "metadata": {},
   "outputs": [],
   "source": [
    "df.loc[:,'tool'] = df.component.apply(tool)"
   ]
  },
  {
   "cell_type": "markdown",
   "metadata": {},
   "source": [
    "# Atributo \"Algoritmo\"\n",
    "\n",
    "A partir da componente de cada amostra, deduzimos se a amostra refere-se a uma aula que envolveu algoritmo ou não."
   ]
  },
  {
   "cell_type": "code",
   "execution_count": 49,
   "metadata": {},
   "outputs": [],
   "source": [
    "@np.vectorize\n",
    "def algorithm(component):\n",
    "    return 'Algoritmo' in component and 'ML' in component"
   ]
  },
  {
   "cell_type": "code",
   "execution_count": 50,
   "metadata": {},
   "outputs": [],
   "source": [
    "df.loc[:,'algorithm'] = df.component.apply(algorithm)"
   ]
  },
  {
   "cell_type": "code",
   "execution_count": 51,
   "metadata": {},
   "outputs": [
    {
     "data": {
      "text/html": [
       "<div>\n",
       "<style scoped>\n",
       "    .dataframe tbody tr th:only-of-type {\n",
       "        vertical-align: middle;\n",
       "    }\n",
       "\n",
       "    .dataframe tbody tr th {\n",
       "        vertical-align: top;\n",
       "    }\n",
       "\n",
       "    .dataframe thead th {\n",
       "        text-align: right;\n",
       "    }\n",
       "</style>\n",
       "<table border=\"1\" class=\"dataframe\">\n",
       "  <thead>\n",
       "    <tr style=\"text-align: right;\">\n",
       "      <th></th>\n",
       "      <th>course</th>\n",
       "      <th>turma</th>\n",
       "      <th>date</th>\n",
       "      <th>student</th>\n",
       "      <th>topicos</th>\n",
       "      <th>component</th>\n",
       "      <th>relevance</th>\n",
       "      <th>learn</th>\n",
       "      <th>satisfaction</th>\n",
       "      <th>pace</th>\n",
       "      <th>tool</th>\n",
       "      <th>algorithm</th>\n",
       "    </tr>\n",
       "  </thead>\n",
       "  <tbody>\n",
       "    <tr>\n",
       "      <th>0</th>\n",
       "      <td>DS</td>\n",
       "      <td>6</td>\n",
       "      <td>2019-04-18</td>\n",
       "      <td>25</td>\n",
       "      <td>aplicações de clusterização de dados</td>\n",
       "      <td>Agrupamento</td>\n",
       "      <td>4</td>\n",
       "      <td>1</td>\n",
       "      <td>6</td>\n",
       "      <td>5</td>\n",
       "      <td>False</td>\n",
       "      <td>False</td>\n",
       "    </tr>\n",
       "    <tr>\n",
       "      <th>1</th>\n",
       "      <td>DS</td>\n",
       "      <td>6</td>\n",
       "      <td>2019-04-18</td>\n",
       "      <td>25</td>\n",
       "      <td>MeanShift e DBSCAN</td>\n",
       "      <td>Agrupamento/Algoritmo/ML</td>\n",
       "      <td>4</td>\n",
       "      <td>2</td>\n",
       "      <td>6</td>\n",
       "      <td>5</td>\n",
       "      <td>False</td>\n",
       "      <td>True</td>\n",
       "    </tr>\n",
       "    <tr>\n",
       "      <th>2</th>\n",
       "      <td>DS</td>\n",
       "      <td>6</td>\n",
       "      <td>2019-04-18</td>\n",
       "      <td>47</td>\n",
       "      <td>aplicações de clusterização de dados</td>\n",
       "      <td>Agrupamento</td>\n",
       "      <td>5</td>\n",
       "      <td>1</td>\n",
       "      <td>7</td>\n",
       "      <td>7</td>\n",
       "      <td>False</td>\n",
       "      <td>False</td>\n",
       "    </tr>\n",
       "    <tr>\n",
       "      <th>3</th>\n",
       "      <td>DS</td>\n",
       "      <td>6</td>\n",
       "      <td>2019-04-18</td>\n",
       "      <td>47</td>\n",
       "      <td>MeanShift e DBSCAN</td>\n",
       "      <td>Agrupamento/Algoritmo/ML</td>\n",
       "      <td>5</td>\n",
       "      <td>2</td>\n",
       "      <td>7</td>\n",
       "      <td>7</td>\n",
       "      <td>False</td>\n",
       "      <td>True</td>\n",
       "    </tr>\n",
       "    <tr>\n",
       "      <th>4</th>\n",
       "      <td>DS</td>\n",
       "      <td>6</td>\n",
       "      <td>2019-04-18</td>\n",
       "      <td>32</td>\n",
       "      <td>aplicações de clusterização de dados</td>\n",
       "      <td>Agrupamento</td>\n",
       "      <td>4</td>\n",
       "      <td>1</td>\n",
       "      <td>5</td>\n",
       "      <td>7</td>\n",
       "      <td>False</td>\n",
       "      <td>False</td>\n",
       "    </tr>\n",
       "  </tbody>\n",
       "</table>\n",
       "</div>"
      ],
      "text/plain": [
       "  course  turma        date  student                               topicos  \\\n",
       "0     DS      6  2019-04-18       25  aplicações de clusterização de dados   \n",
       "1     DS      6  2019-04-18       25                    MeanShift e DBSCAN   \n",
       "2     DS      6  2019-04-18       47  aplicações de clusterização de dados   \n",
       "3     DS      6  2019-04-18       47                    MeanShift e DBSCAN   \n",
       "4     DS      6  2019-04-18       32  aplicações de clusterização de dados   \n",
       "\n",
       "                  component  relevance  learn  satisfaction  pace   tool  \\\n",
       "0               Agrupamento          4      1             6     5  False   \n",
       "1  Agrupamento/Algoritmo/ML          4      2             6     5  False   \n",
       "2               Agrupamento          5      1             7     7  False   \n",
       "3  Agrupamento/Algoritmo/ML          5      2             7     7  False   \n",
       "4               Agrupamento          4      1             5     7  False   \n",
       "\n",
       "   algorithm  \n",
       "0      False  \n",
       "1       True  \n",
       "2      False  \n",
       "3       True  \n",
       "4      False  "
      ]
     },
     "execution_count": 51,
     "metadata": {},
     "output_type": "execute_result"
    }
   ],
   "source": [
    "df.head()"
   ]
  },
  {
   "cell_type": "code",
   "execution_count": 52,
   "metadata": {},
   "outputs": [
    {
     "data": {
      "text/html": [
       "<div>\n",
       "<style scoped>\n",
       "    .dataframe tbody tr th:only-of-type {\n",
       "        vertical-align: middle;\n",
       "    }\n",
       "\n",
       "    .dataframe tbody tr th {\n",
       "        vertical-align: top;\n",
       "    }\n",
       "\n",
       "    .dataframe thead th {\n",
       "        text-align: right;\n",
       "    }\n",
       "</style>\n",
       "<table border=\"1\" class=\"dataframe\">\n",
       "  <thead>\n",
       "    <tr style=\"text-align: right;\">\n",
       "      <th></th>\n",
       "      <th>course</th>\n",
       "      <th>turma</th>\n",
       "      <th>date</th>\n",
       "      <th>student</th>\n",
       "      <th>topicos</th>\n",
       "      <th>component</th>\n",
       "      <th>relevance</th>\n",
       "      <th>learn</th>\n",
       "      <th>satisfaction</th>\n",
       "      <th>pace</th>\n",
       "      <th>tool</th>\n",
       "      <th>algorithm</th>\n",
       "    </tr>\n",
       "  </thead>\n",
       "  <tbody>\n",
       "    <tr>\n",
       "      <th>0</th>\n",
       "      <td>DS</td>\n",
       "      <td>6</td>\n",
       "      <td>2019-04-18</td>\n",
       "      <td>25</td>\n",
       "      <td>aplicações de clusterização de dados</td>\n",
       "      <td>Agrupamento</td>\n",
       "      <td>4</td>\n",
       "      <td>1</td>\n",
       "      <td>6</td>\n",
       "      <td>5</td>\n",
       "      <td>False</td>\n",
       "      <td>False</td>\n",
       "    </tr>\n",
       "    <tr>\n",
       "      <th>2</th>\n",
       "      <td>DS</td>\n",
       "      <td>6</td>\n",
       "      <td>2019-04-18</td>\n",
       "      <td>47</td>\n",
       "      <td>aplicações de clusterização de dados</td>\n",
       "      <td>Agrupamento</td>\n",
       "      <td>5</td>\n",
       "      <td>1</td>\n",
       "      <td>7</td>\n",
       "      <td>7</td>\n",
       "      <td>False</td>\n",
       "      <td>False</td>\n",
       "    </tr>\n",
       "    <tr>\n",
       "      <th>4</th>\n",
       "      <td>DS</td>\n",
       "      <td>6</td>\n",
       "      <td>2019-04-18</td>\n",
       "      <td>32</td>\n",
       "      <td>aplicações de clusterização de dados</td>\n",
       "      <td>Agrupamento</td>\n",
       "      <td>4</td>\n",
       "      <td>1</td>\n",
       "      <td>5</td>\n",
       "      <td>7</td>\n",
       "      <td>False</td>\n",
       "      <td>False</td>\n",
       "    </tr>\n",
       "    <tr>\n",
       "      <th>6</th>\n",
       "      <td>DS</td>\n",
       "      <td>6</td>\n",
       "      <td>2019-04-18</td>\n",
       "      <td>23</td>\n",
       "      <td>aplicações de clusterização de dados</td>\n",
       "      <td>Agrupamento</td>\n",
       "      <td>5</td>\n",
       "      <td>2</td>\n",
       "      <td>10</td>\n",
       "      <td>5</td>\n",
       "      <td>False</td>\n",
       "      <td>False</td>\n",
       "    </tr>\n",
       "    <tr>\n",
       "      <th>8</th>\n",
       "      <td>DS</td>\n",
       "      <td>6</td>\n",
       "      <td>2019-04-18</td>\n",
       "      <td>17</td>\n",
       "      <td>aplicações de clusterização de dados</td>\n",
       "      <td>Agrupamento</td>\n",
       "      <td>5</td>\n",
       "      <td>1</td>\n",
       "      <td>6</td>\n",
       "      <td>7</td>\n",
       "      <td>False</td>\n",
       "      <td>False</td>\n",
       "    </tr>\n",
       "  </tbody>\n",
       "</table>\n",
       "</div>"
      ],
      "text/plain": [
       "  course  turma        date  student                               topicos  \\\n",
       "0     DS      6  2019-04-18       25  aplicações de clusterização de dados   \n",
       "2     DS      6  2019-04-18       47  aplicações de clusterização de dados   \n",
       "4     DS      6  2019-04-18       32  aplicações de clusterização de dados   \n",
       "6     DS      6  2019-04-18       23  aplicações de clusterização de dados   \n",
       "8     DS      6  2019-04-18       17  aplicações de clusterização de dados   \n",
       "\n",
       "     component  relevance  learn  satisfaction  pace   tool  algorithm  \n",
       "0  Agrupamento          4      1             6     5  False      False  \n",
       "2  Agrupamento          5      1             7     7  False      False  \n",
       "4  Agrupamento          4      1             5     7  False      False  \n",
       "6  Agrupamento          5      2            10     5  False      False  \n",
       "8  Agrupamento          5      1             6     7  False      False  "
      ]
     },
     "execution_count": 52,
     "metadata": {},
     "output_type": "execute_result"
    }
   ],
   "source": [
    "da=df[df.course == 'DS']\n",
    "da[~da.algorithm].head()"
   ]
  },
  {
   "cell_type": "markdown",
   "metadata": {},
   "source": [
    "# Exportação\n",
    "\n",
    "Encerramos esse pré-processamento exportando o conjunto de dados, segmentado por curso, para processamento especializado posterior. Primeiramente, Data Science:"
   ]
  },
  {
   "cell_type": "code",
   "execution_count": 53,
   "metadata": {},
   "outputs": [],
   "source": [
    "ds = df[df.course == 'DS']\n",
    "ds.drop(['course'], axis=1).to_csv('ds_tidy.csv', index=False)"
   ]
  },
  {
   "cell_type": "markdown",
   "metadata": {},
   "source": [
    "Em seguida, Data Analytics:"
   ]
  },
  {
   "cell_type": "code",
   "execution_count": 54,
   "metadata": {},
   "outputs": [],
   "source": [
    "da = df[df.course == 'DA']\n",
    "da.drop(['course'], axis=1).to_csv('da_tidy.csv', index=False)"
   ]
  },
  {
   "cell_type": "markdown",
   "metadata": {},
   "source": [
    "# Wordcloud\n",
    "\n",
    "O objetivo é identificar termos mais comuns. Usei NLP para considerar apenas lemmas.\n",
    "Inspiração: [aqui](https://www.unece.org/fileadmin/DAM/stats/documents/ece/ces/ge.44/2018/T_USA_Martinez_Paper.pdf)"
   ]
  },
  {
   "cell_type": "code",
   "execution_count": 18,
   "metadata": {},
   "outputs": [],
   "source": [
    "import spacy\n",
    "nlp = spacy.load('pt')"
   ]
  },
  {
   "cell_type": "code",
   "execution_count": 34,
   "metadata": {},
   "outputs": [],
   "source": [
    "BAG_MEMENTO_FILENAME = 'da_bow.pickle'"
   ]
  },
  {
   "cell_type": "code",
   "execution_count": null,
   "metadata": {},
   "outputs": [],
   "source": [
    "# Carrega o bag...\n",
    "bag = pickle.load(open(BAG_MEMENTO_FILENAME, 'rb'))"
   ]
  },
  {
   "cell_type": "code",
   "execution_count": 35,
   "metadata": {},
   "outputs": [],
   "source": [
    "#... ou cria\n",
    "bag = []\n",
    "\n",
    "for component in da.topicos.iloc:\n",
    "    doc = nlp(component)\n",
    "    bag += [token.lemma_.lower() for token in doc if token.pos_ not in ['AUX', 'ADP']]"
   ]
  },
  {
   "cell_type": "code",
   "execution_count": 50,
   "metadata": {},
   "outputs": [
    {
     "data": {
      "text/plain": [
       "[('importância', 'NOUN'),\n",
       " ('do', 'DET'),\n",
       " ('pensamento', 'NOUN'),\n",
       " ('negócio', 'NOUN'),\n",
       " ('data', 'PROPN'),\n",
       " ('analytics', 'PROPN')]"
      ]
     },
     "execution_count": 50,
     "metadata": {},
     "output_type": "execute_result"
    }
   ],
   "source": [
    "component = da.topicos.iloc[3077]\n",
    "component = component.replace('dados', 'datum')\n",
    "doc = nlp(component)\n",
    "[(token.lemma_.lower(), token.pos_) for token in doc if token.pos_ not in ['AUX', 'ADP', 'PUNCT']]"
   ]
  },
  {
   "cell_type": "code",
   "execution_count": 36,
   "metadata": {},
   "outputs": [],
   "source": [
    "# Save o bag\n",
    "import pickle\n",
    "pickle.dump(bag, open(BAG_MEMENTO_FILENAME, 'wb'))"
   ]
  },
  {
   "cell_type": "code",
   "execution_count": 41,
   "metadata": {},
   "outputs": [
    {
     "data": {
      "image/png": "[encoded data removed]",
      "text/plain": [
       "<Figure size 432x288 with 1 Axes>"
      ]
     },
     "metadata": {
      "needs_background": "light"
     },
     "output_type": "display_data"
    }
   ],
   "source": [
    "import numpy as np\n",
    "import pandas as pd\n",
    "from os import path\n",
    "from PIL import Image\n",
    "from wordcloud import WordCloud, STOPWORDS, ImageColorGenerator\n",
    "\n",
    "import matplotlib.pyplot as plt\n",
    "%matplotlib inline\n",
    "\n",
    "# Generate a word cloud image\n",
    "wordcloud = WordCloud(max_words=100, background_color=\"white\").generate(' '.join(bag))\n",
    "\n",
    "# Display the generated image:\n",
    "# the matplotlib way:\n",
    "plt.imshow(wordcloud, interpolation='bilinear')\n",
    "plt.axis(\"off\")\n",
    "plt.show()"
   ]
  },
  {
   "cell_type": "code",
   "execution_count": 42,
   "metadata": {},
   "outputs": [
    {
     "data": {
      "text/plain": [
       "<wordcloud.wordcloud.WordCloud at 0x7fdd5952fb50>"
      ]
     },
     "execution_count": 42,
     "metadata": {},
     "output_type": "execute_result"
    }
   ],
   "source": [
    "wordcloud.to_file(\"img/wordcloud.png\")"
   ]
  },
  {
   "cell_type": "code",
   "execution_count": 24,
   "metadata": {},
   "outputs": [
    {
     "data": {
      "text/plain": [
       "36"
      ]
     },
     "execution_count": 24,
     "metadata": {},
     "output_type": "execute_result"
    }
   ],
   "source": []
  },
  {
   "cell_type": "code",
   "execution_count": 23,
   "metadata": {},
   "outputs": [
    {
     "data": {
      "text/plain": [
       "{'?',\n",
       " 'API (dev)',\n",
       " 'Agile',\n",
       " 'Agrupamento',\n",
       " 'Agrupamento/Algoritmo/ML',\n",
       " 'Amostra',\n",
       " 'Análise',\n",
       " 'Aplicação',\n",
       " 'Arquitetura de dados',\n",
       " 'Avaliação',\n",
       " 'Avaliação/Modelagem',\n",
       " 'Avaliação/Métricas/Modelagem',\n",
       " 'Banco de dados',\n",
       " 'Bancos de dados',\n",
       " 'Bancos de dados/Ferramenta',\n",
       " 'Boosting',\n",
       " 'Classificação',\n",
       " 'Classificação/Algoritmo/ML',\n",
       " 'Classificação/Aplicação',\n",
       " 'Classificação/Otimização',\n",
       " 'Compressão de dados',\n",
       " 'Compressão de dados/Algoritmo/ML',\n",
       " 'Cultura de dados',\n",
       " 'Cultura de dados/Aplicação',\n",
       " 'Data Analytics',\n",
       " 'Data Analytics/Frameworks',\n",
       " 'Data Analytics/Negócios',\n",
       " 'Data Analytics/Research',\n",
       " 'Data Analytics/Tendências',\n",
       " 'Data Analytics/métricas',\n",
       " 'Data cleaning',\n",
       " 'Data compression',\n",
       " 'Data compression/Algoritmo',\n",
       " 'Data compression/Algoritmo/ML',\n",
       " 'Data manipulation/Ferramenta',\n",
       " 'Data mining/Ferramenta',\n",
       " 'Data preparation',\n",
       " 'Data transformation',\n",
       " 'Data transformation/Ferramenta',\n",
       " 'Data wrangling',\n",
       " 'DataViz',\n",
       " 'DataViz/Ferramenta',\n",
       " 'DataViz/Storytelling',\n",
       " 'Deploy',\n",
       " 'DevOps',\n",
       " 'DevOps/Ferramenta',\n",
       " 'Digital Analytics',\n",
       " 'Digital Analytics/Ferramenta',\n",
       " 'Digital Analytics/Métricas',\n",
       " 'Dispersão',\n",
       " 'Distância',\n",
       " 'EDA',\n",
       " 'ETL',\n",
       " 'Ensembles',\n",
       " 'Ensembles/Algoritmo/ML',\n",
       " 'Ensembles/Otimização',\n",
       " 'Estatística',\n",
       " 'Estatística descritiva',\n",
       " 'Estatística inferencial',\n",
       " 'Estratégia/Data Analytics',\n",
       " 'Feature engieering',\n",
       " 'Feature engineering',\n",
       " 'Ferramenta',\n",
       " 'Fontes de dados',\n",
       " 'Fontes de dados/API',\n",
       " 'Fontes de dados/Ferramenta',\n",
       " 'Google Data Studio/Ferramenta',\n",
       " 'History',\n",
       " 'Interpretação',\n",
       " 'KPI',\n",
       " 'LGPD',\n",
       " 'Lógica/Programação',\n",
       " 'ML',\n",
       " 'ML/Aplicação',\n",
       " 'ML/Ferramenta',\n",
       " 'Management',\n",
       " 'Marketing digital',\n",
       " 'Metodologia/Data Analytics',\n",
       " 'Modelagem',\n",
       " 'Modelagem/Avaliação',\n",
       " 'Modelagem/Interpretação',\n",
       " 'Modelagem/Interpretação/Ferramenta',\n",
       " 'Modelagem/Otimização',\n",
       " 'Modelagem/Predição',\n",
       " 'Modelagem/Validação',\n",
       " 'Métricas',\n",
       " 'Métricas/Ferramenta',\n",
       " 'Métricas/Negócios',\n",
       " 'NLP',\n",
       " 'NLP/Algoritmo',\n",
       " 'NLP/Algoritmo/ML',\n",
       " 'NLP/Aplicação',\n",
       " 'NN',\n",
       " 'NN/Algoritmo/ML',\n",
       " 'Negócios',\n",
       " 'Negócios/Algoritmo',\n",
       " 'Negócios/Aplicação',\n",
       " 'Otimização',\n",
       " 'Otimização/Algoritmo',\n",
       " 'Pipeline',\n",
       " 'Princípios de análise',\n",
       " 'Probabilidade',\n",
       " 'Probabilidade/Aplicação',\n",
       " 'Programação',\n",
       " 'Programação/Ferramenta',\n",
       " 'Regressão',\n",
       " 'Regressão logística/classificação',\n",
       " 'Regressão/Aplicação',\n",
       " 'Regressão/Ferramenta',\n",
       " 'Regressão/Interpretação',\n",
       " 'Regressão/Otimização',\n",
       " 'Regressão/otimização',\n",
       " 'Regularização',\n",
       " 'Resampling',\n",
       " 'Research',\n",
       " 'Roadmap',\n",
       " 'SQL/Ferramenta',\n",
       " 'Sistemas de recomendação/Aplicação/Algoritmo/ML',\n",
       " 'Sistemas de recomendação/ML',\n",
       " 'Storytelling',\n",
       " 'Storytelling/Ferramenta',\n",
       " 'Séries temporais',\n",
       " 'Séries temporais/Algoritmo',\n",
       " 'Tableau/Ferramenta',\n",
       " 'Teste de hipótese',\n",
       " 'Validação',\n",
       " 'Visão computacional',\n",
       " 'Viés/Variância',\n",
       " 'Viés/variância',\n",
       " 'Árvores de decisão/Algoritmo/ML'}"
      ]
     },
     "execution_count": 23,
     "metadata": {},
     "output_type": "execute_result"
    }
   ],
   "source": [
    "\n",
    "set(df.component)"
   ]
  },
  {
   "cell_type": "code",
   "execution_count": null,
   "metadata": {},
   "outputs": [],
   "source": []
  }
 ],
 "metadata": {
  "kernelspec": {
   "display_name": "Python 3",
   "language": "python",
   "name": "python3"
  },
  "language_info": {
   "codemirror_mode": {
    "name": "ipython",
    "version": 3
   },
   "file_extension": ".py",
   "mimetype": "text/x-python",
   "name": "python",
   "nbconvert_exporter": "python",
   "pygments_lexer": "ipython3",
   "version": "3.8.5"
  }
 },
 "nbformat": 4,
 "nbformat_minor": 4
}
