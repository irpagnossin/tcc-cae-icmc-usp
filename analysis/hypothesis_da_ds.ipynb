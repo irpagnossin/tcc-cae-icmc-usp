{
 "cells": [
  {
   "cell_type": "code",
   "execution_count": 1,
   "metadata": {},
   "outputs": [],
   "source": [
    "import pandas as pd\n",
    "from scipy.stats import ttest_ind\n",
    "import matplotlib.pyplot as plt\n",
    "from statsmodels.stats.diagnostic import kstest_normal\n",
    "from careful_split import careful_split\n",
    "import numpy as np\n",
    "import seaborn as sns\n",
    "\n",
    "%matplotlib inline"
   ]
  },
  {
   "cell_type": "markdown",
   "metadata": {},
   "source": [
    "# Hipóteses para Data Science\n",
    "\n",
    "## Contexto\n",
    "\n",
    "Cursos livres de dados (DS e DA).\n",
    "\n",
    "## Hipóteses\n",
    "\n",
    "Dado que as empresas citam frequentamente \"ferramentas\" ao invés de habilidades/competências, suspeito que os tópicos que envolvam explicitamente uma ferramenta têm maior relevância percebida pelo aluno e, possivelmente como consequência disso, apresenta maior aprendizagem percebida pelo aluno.\n",
    "\n",
    "- Hipótese: componentes de aprendizagem relacionadas explicitamente com ferramentas apresentam relevância, conforme percebida pelo aluno, maior que as componentes relacionadas com habilidades/competências e conceituais.\n",
    "- Hipótese: componentes de aprendizagem relacionadas explicitamente com ferramentas apresentam aprendizagem, conforme percebida pelo aluno, maior que as componentes relacionadas com habilidades/competências e conceituais."
   ]
  },
  {
   "cell_type": "code",
   "execution_count": 2,
   "metadata": {},
   "outputs": [
    {
     "data": {
      "text/html": [
       "<div>\n",
       "<style scoped>\n",
       "    .dataframe tbody tr th:only-of-type {\n",
       "        vertical-align: middle;\n",
       "    }\n",
       "\n",
       "    .dataframe tbody tr th {\n",
       "        vertical-align: top;\n",
       "    }\n",
       "\n",
       "    .dataframe thead th {\n",
       "        text-align: right;\n",
       "    }\n",
       "</style>\n",
       "<table border=\"1\" class=\"dataframe\">\n",
       "  <thead>\n",
       "    <tr style=\"text-align: right;\">\n",
       "      <th></th>\n",
       "      <th>turma</th>\n",
       "      <th>date</th>\n",
       "      <th>student</th>\n",
       "      <th>topicos</th>\n",
       "      <th>component</th>\n",
       "      <th>relevance</th>\n",
       "      <th>learn</th>\n",
       "      <th>satisfaction</th>\n",
       "      <th>pace</th>\n",
       "      <th>tool</th>\n",
       "      <th>algorithm</th>\n",
       "    </tr>\n",
       "  </thead>\n",
       "  <tbody>\n",
       "    <tr>\n",
       "      <th>0</th>\n",
       "      <td>6</td>\n",
       "      <td>2019-04-18</td>\n",
       "      <td>25</td>\n",
       "      <td>aplicações de clusterização de dados</td>\n",
       "      <td>Agrupamento</td>\n",
       "      <td>4</td>\n",
       "      <td>1</td>\n",
       "      <td>6</td>\n",
       "      <td>5</td>\n",
       "      <td>False</td>\n",
       "      <td>False</td>\n",
       "    </tr>\n",
       "    <tr>\n",
       "      <th>1</th>\n",
       "      <td>6</td>\n",
       "      <td>2019-04-18</td>\n",
       "      <td>25</td>\n",
       "      <td>MeanShift e DBSCAN</td>\n",
       "      <td>Agrupamento/Algoritmo/ML</td>\n",
       "      <td>4</td>\n",
       "      <td>2</td>\n",
       "      <td>6</td>\n",
       "      <td>5</td>\n",
       "      <td>False</td>\n",
       "      <td>True</td>\n",
       "    </tr>\n",
       "    <tr>\n",
       "      <th>2</th>\n",
       "      <td>6</td>\n",
       "      <td>2019-04-18</td>\n",
       "      <td>47</td>\n",
       "      <td>aplicações de clusterização de dados</td>\n",
       "      <td>Agrupamento</td>\n",
       "      <td>5</td>\n",
       "      <td>1</td>\n",
       "      <td>7</td>\n",
       "      <td>7</td>\n",
       "      <td>False</td>\n",
       "      <td>False</td>\n",
       "    </tr>\n",
       "    <tr>\n",
       "      <th>3</th>\n",
       "      <td>6</td>\n",
       "      <td>2019-04-18</td>\n",
       "      <td>47</td>\n",
       "      <td>MeanShift e DBSCAN</td>\n",
       "      <td>Agrupamento/Algoritmo/ML</td>\n",
       "      <td>5</td>\n",
       "      <td>2</td>\n",
       "      <td>7</td>\n",
       "      <td>7</td>\n",
       "      <td>False</td>\n",
       "      <td>True</td>\n",
       "    </tr>\n",
       "    <tr>\n",
       "      <th>4</th>\n",
       "      <td>6</td>\n",
       "      <td>2019-04-18</td>\n",
       "      <td>32</td>\n",
       "      <td>aplicações de clusterização de dados</td>\n",
       "      <td>Agrupamento</td>\n",
       "      <td>4</td>\n",
       "      <td>1</td>\n",
       "      <td>5</td>\n",
       "      <td>7</td>\n",
       "      <td>False</td>\n",
       "      <td>False</td>\n",
       "    </tr>\n",
       "  </tbody>\n",
       "</table>\n",
       "</div>"
      ],
      "text/plain": [
       "   turma       date  student                               topicos  \\\n",
       "0      6 2019-04-18       25  aplicações de clusterização de dados   \n",
       "1      6 2019-04-18       25                    MeanShift e DBSCAN   \n",
       "2      6 2019-04-18       47  aplicações de clusterização de dados   \n",
       "3      6 2019-04-18       47                    MeanShift e DBSCAN   \n",
       "4      6 2019-04-18       32  aplicações de clusterização de dados   \n",
       "\n",
       "                  component  relevance  learn  satisfaction  pace   tool  \\\n",
       "0               Agrupamento          4      1             6     5  False   \n",
       "1  Agrupamento/Algoritmo/ML          4      2             6     5  False   \n",
       "2               Agrupamento          5      1             7     7  False   \n",
       "3  Agrupamento/Algoritmo/ML          5      2             7     7  False   \n",
       "4               Agrupamento          4      1             5     7  False   \n",
       "\n",
       "   algorithm  \n",
       "0      False  \n",
       "1       True  \n",
       "2      False  \n",
       "3       True  \n",
       "4      False  "
      ]
     },
     "execution_count": 2,
     "metadata": {},
     "output_type": "execute_result"
    }
   ],
   "source": [
    "ds = pd.read_csv('ds_tidy.csv', parse_dates=['date'])\n",
    "ds.head()"
   ]
  },
  {
   "cell_type": "code",
   "execution_count": 3,
   "metadata": {},
   "outputs": [],
   "source": [
    "ds['lesson'] = ds.date.astype(str) + '/' + ds.turma.astype(str)"
   ]
  },
  {
   "cell_type": "code",
   "execution_count": 4,
   "metadata": {},
   "outputs": [],
   "source": [
    "ds_1, ds_2 = careful_split(ds)"
   ]
  },
  {
   "cell_type": "markdown",
   "metadata": {},
   "source": [
    "### Hipótese 1: ferramenta\n",
    "\n",
    "A presença de ferramentas dentre os tópicos do componente aferam _positivamente_ (1) a relevância e (2) a aprendizagem percebidas pelo estudante."
   ]
  },
  {
   "cell_type": "code",
   "execution_count": 5,
   "metadata": {},
   "outputs": [],
   "source": [
    "ds_tools = ds_1[ds_1.tool]\n",
    "ds_ntools = ds_1[~ds_1.tool]"
   ]
  },
  {
   "cell_type": "code",
   "execution_count": 6,
   "metadata": {},
   "outputs": [
    {
     "name": "stdout",
     "output_type": "stream",
     "text": [
      "232\n",
      "1.3793103448275863\n",
      "0.9816954360916479\n",
      "0.128902925867864\n"
     ]
    }
   ],
   "source": [
    "l_bar = ds_tools.learn.mean()\n",
    "l_std = ds_tools.learn.std()\n",
    "n = len(ds_tools)\n",
    "\n",
    "print(n)\n",
    "print(l_bar)\n",
    "print(l_std)\n",
    "print(2 * l_std/np.sqrt(n))"
   ]
  },
  {
   "cell_type": "code",
   "execution_count": 7,
   "metadata": {},
   "outputs": [
    {
     "name": "stdout",
     "output_type": "stream",
     "text": [
      "1531\n",
      "1.2338340953625082\n",
      "0.8640561717171505\n",
      "0.04416562462057345\n"
     ]
    }
   ],
   "source": [
    "l_bar = ds_ntools.learn.mean()\n",
    "l_std = ds_ntools.learn.std()\n",
    "n = len(ds_ntools)\n",
    "\n",
    "print(n)\n",
    "print(l_bar)\n",
    "print(l_std)\n",
    "print(2 * l_std/np.sqrt(n))"
   ]
  },
  {
   "cell_type": "code",
   "execution_count": 8,
   "metadata": {},
   "outputs": [
    {
     "data": {
      "text/plain": [
       "Text(0, 0.5, 'Ferramenta?')"
      ]
     },
     "execution_count": 8,
     "metadata": {},
     "output_type": "execute_result"
    },
    {
     "data": {
      "image/png": "[encoded data removed]",
      "text/plain": [
       "<Figure size 432x288 with 1 Axes>"
      ]
     },
     "metadata": {
      "needs_background": "light"
     },
     "output_type": "display_data"
    }
   ],
   "source": [
    "ax = sns.boxplot(x=\"learn\", y=\"tool\", orient=\"h\", palette=\"Set2\", showmeans=True, data=ds_1)\n",
    "ax.set_title('Data Science')\n",
    "ax.set_xlabel('Aprendizagem')\n",
    "ax.set_ylabel('Ferramenta?')"
   ]
  },
  {
   "cell_type": "markdown",
   "metadata": {},
   "source": [
    "#### Teste de normalidade"
   ]
  },
  {
   "cell_type": "code",
   "execution_count": 9,
   "metadata": {},
   "outputs": [],
   "source": [
    "def interpret_ks_normality_test(ks_statistic, p_value):\n",
    "    if p_value < 0.05:\n",
    "        print(f'A distribuição NÃO é normal: p-valor = {p_value}')\n",
    "    else:\n",
    "        print(f'A distribuição é normal: p-valor = {p_value}')"
   ]
  },
  {
   "cell_type": "code",
   "execution_count": 17,
   "metadata": {},
   "outputs": [
    {
     "name": "stdout",
     "output_type": "stream",
     "text": [
      "A distribuição NÃO é normal: p-valor = 8.747659455420123e-39\n"
     ]
    }
   ],
   "source": [
    "ks_statistic, p_value = kstest_normal(ds_tools.learn)\n",
    "interpret_ks_normality_test(ks_statistic, p_value)"
   ]
  },
  {
   "cell_type": "code",
   "execution_count": 18,
   "metadata": {},
   "outputs": [
    {
     "name": "stdout",
     "output_type": "stream",
     "text": [
      "A distribuição NÃO é normal: p-valor = 7.5980341364196e-311\n"
     ]
    }
   ],
   "source": [
    "ks_statistic, p_value = kstest_normal(ds_ntools.learn)\n",
    "interpret_ks_normality_test(ks_statistic, p_value)"
   ]
  },
  {
   "cell_type": "code",
   "execution_count": 16,
   "metadata": {},
   "outputs": [
    {
     "data": {
      "text/plain": [
       "<matplotlib.axes._subplots.AxesSubplot at 0x7fca98693a60>"
      ]
     },
     "execution_count": 16,
     "metadata": {},
     "output_type": "execute_result"
    },
    {
     "data": {
      "image/png": "[encoded data removed]",
      "text/plain": [
       "<Figure size 432x288 with 1 Axes>"
      ]
     },
     "metadata": {
      "needs_background": "light"
     },
     "output_type": "display_data"
    }
   ],
   "source": [
    "ds_ntools.learn.hist()"
   ]
  },
  {
   "cell_type": "markdown",
   "metadata": {},
   "source": [
    "#### Teste t da hipótese"
   ]
  },
  {
   "cell_type": "code",
   "execution_count": 19,
   "metadata": {},
   "outputs": [
    {
     "data": {
      "text/plain": [
       "Ttest_indResult(statistic=2.1352871701015634, pvalue=0.0335817456549418)"
      ]
     },
     "execution_count": 19,
     "metadata": {},
     "output_type": "execute_result"
    }
   ],
   "source": [
    "ttest_ind(ds_tools.learn, ds_ntools.learn, equal_var=False, nan_policy='omit')"
   ]
  },
  {
   "cell_type": "code",
   "execution_count": 23,
   "metadata": {},
   "outputs": [
    {
     "data": {
      "text/plain": [
       "Ttest_indResult(statistic=-1.2784085788335642, pvalue=0.2020849283936786)"
      ]
     },
     "execution_count": 23,
     "metadata": {},
     "output_type": "execute_result"
    }
   ],
   "source": [
    "ttest_ind(ds_tools.relevance, ds_ntools.relevance, equal_var=False, nan_policy='omit')"
   ]
  },
  {
   "cell_type": "markdown",
   "metadata": {},
   "source": [
    "Os testes t de Welch para duas amostras com variâncias distintas mostra que tanto a relevância quando a aprendizagem não apresentam diferença estatísticamente significativa."
   ]
  },
  {
   "cell_type": "markdown",
   "metadata": {},
   "source": [
    "### Hipótese 2: algoritmo\n",
    "\n",
    "A presença de algoritmos de _machine learning_ dentre os tópicos do componente afetam *positivamente* (1) a relevância e a (2) aprendizagem percebidas pelo estudante."
   ]
  },
  {
   "cell_type": "code",
   "execution_count": 29,
   "metadata": {},
   "outputs": [],
   "source": [
    "ds_alg = ds_1[ds_1.algorithm]\n",
    "ds_nalg = ds_1[~ds_1.algorithm]"
   ]
  },
  {
   "cell_type": "code",
   "execution_count": 30,
   "metadata": {},
   "outputs": [
    {
     "name": "stdout",
     "output_type": "stream",
     "text": [
      "110\n",
      "1.3454545454545455\n",
      "0.8824108306575336\n",
      "0.16826914307541718\n"
     ]
    }
   ],
   "source": [
    "l_bar = ds_alg.learn.mean()\n",
    "l_std = ds_alg.learn.std()\n",
    "n = len(ds_alg)\n",
    "\n",
    "print(n)\n",
    "print(l_bar)\n",
    "print(l_std)\n",
    "print(2 * l_std/np.sqrt(n))"
   ]
  },
  {
   "cell_type": "code",
   "execution_count": 31,
   "metadata": {},
   "outputs": [
    {
     "name": "stdout",
     "output_type": "stream",
     "text": [
      "1653\n",
      "1.2468239564428312\n",
      "0.8813702138470156\n",
      "0.04335627259715735\n"
     ]
    }
   ],
   "source": [
    "l_bar = ds_nalg.learn.mean()\n",
    "l_std = ds_nalg.learn.std()\n",
    "n = len(ds_nalg)\n",
    "\n",
    "print(n)\n",
    "print(l_bar)\n",
    "print(l_std)\n",
    "print(2 * l_std/np.sqrt(n))"
   ]
  },
  {
   "cell_type": "code",
   "execution_count": 32,
   "metadata": {},
   "outputs": [
    {
     "data": {
      "text/plain": [
       "Ttest_indResult(statistic=0.8320191832911045, pvalue=0.406942925113294)"
      ]
     },
     "execution_count": 32,
     "metadata": {},
     "output_type": "execute_result"
    }
   ],
   "source": [
    "ttest_ind(ds_alg.relevance, ds_nalg.relevance, equal_var=False, nan_policy='omit')"
   ]
  },
  {
   "cell_type": "code",
   "execution_count": 33,
   "metadata": {},
   "outputs": [
    {
     "data": {
      "text/plain": [
       "Ttest_indResult(statistic=1.1352182096547545, pvalue=0.25847490141300605)"
      ]
     },
     "execution_count": 33,
     "metadata": {},
     "output_type": "execute_result"
    }
   ],
   "source": [
    "ttest_ind(ds_alg.learn, ds_nalg.learn, equal_var=False, nan_policy='omit')"
   ]
  },
  {
   "cell_type": "code",
   "execution_count": 34,
   "metadata": {},
   "outputs": [
    {
     "data": {
      "text/plain": [
       "Text(0, 0.5, 'Algoritmo?')"
      ]
     },
     "execution_count": 34,
     "metadata": {},
     "output_type": "execute_result"
    },
    {
     "data": {
      "image/png": "[encoded data removed]",
      "text/plain": [
       "<Figure size 432x288 with 1 Axes>"
      ]
     },
     "metadata": {
      "needs_background": "light"
     },
     "output_type": "display_data"
    }
   ],
   "source": [
    "ax = sns.boxplot(x=\"learn\", y=\"algorithm\", orient=\"h\", palette=\"Set2\", showmeans=True, data=ds_1)\n",
    "ax.set_title('Data Science')\n",
    "ax.set_xlabel('Aprendizagem')\n",
    "ax.set_ylabel('Algoritmo?')"
   ]
  },
  {
   "cell_type": "markdown",
   "metadata": {},
   "source": [
    "Para a aprendizagem, o valor $p$ é inferior ao limite de 5% de significância. Isso indica que a diferença entre as médias na aprendizagem, num conjunto e no outro, é estatisticamente significativa. Como resultado, nossos dados fornecem informações suficientes para concluirmos que a aprendizagem é (positivamente) afetada pela presença de algoritmos."
   ]
  },
  {
   "cell_type": "code",
   "execution_count": 35,
   "metadata": {},
   "outputs": [
    {
     "data": {
      "image/png": "[encoded data removed]",
      "text/plain": [
       "<Figure size 432x288 with 1 Axes>"
      ]
     },
     "metadata": {
      "needs_background": "light"
     },
     "output_type": "display_data"
    }
   ],
   "source": [
    "ds_alg.learn.hist(density=True)\n",
    "ds_alg.learn.plot.kde(bw_method=1)\n",
    "plt.title(\"Aprendizagem para aulas de algoritmos\");"
   ]
  },
  {
   "cell_type": "code",
   "execution_count": 36,
   "metadata": {},
   "outputs": [
    {
     "data": {
      "image/png": "[encoded data removed]",
      "text/plain": [
       "<Figure size 432x288 with 1 Axes>"
      ]
     },
     "metadata": {
      "needs_background": "light"
     },
     "output_type": "display_data"
    }
   ],
   "source": [
    "ds_nalg.learn.hist(density=True)\n",
    "ds_nalg.learn.plot.kde(bw_method=1)\n",
    "plt.title(\"Aprendizagem para aulas de não-algoritmos\");"
   ]
  },
  {
   "cell_type": "markdown",
   "metadata": {},
   "source": [
    "# Hipóteses para Data Analytics"
   ]
  },
  {
   "cell_type": "code",
   "execution_count": 20,
   "metadata": {},
   "outputs": [
    {
     "data": {
      "text/html": [
       "<div>\n",
       "<style scoped>\n",
       "    .dataframe tbody tr th:only-of-type {\n",
       "        vertical-align: middle;\n",
       "    }\n",
       "\n",
       "    .dataframe tbody tr th {\n",
       "        vertical-align: top;\n",
       "    }\n",
       "\n",
       "    .dataframe thead th {\n",
       "        text-align: right;\n",
       "    }\n",
       "</style>\n",
       "<table border=\"1\" class=\"dataframe\">\n",
       "  <thead>\n",
       "    <tr style=\"text-align: right;\">\n",
       "      <th></th>\n",
       "      <th>turma</th>\n",
       "      <th>date</th>\n",
       "      <th>student</th>\n",
       "      <th>topicos</th>\n",
       "      <th>component</th>\n",
       "      <th>relevance</th>\n",
       "      <th>learn</th>\n",
       "      <th>satisfaction</th>\n",
       "      <th>pace</th>\n",
       "      <th>tool</th>\n",
       "      <th>algorithm</th>\n",
       "    </tr>\n",
       "  </thead>\n",
       "  <tbody>\n",
       "    <tr>\n",
       "      <th>0</th>\n",
       "      <td>2</td>\n",
       "      <td>2019-04-18</td>\n",
       "      <td>426</td>\n",
       "      <td>como capturar os dados (fontes de dados)</td>\n",
       "      <td>Fontes de dados</td>\n",
       "      <td>5</td>\n",
       "      <td>1</td>\n",
       "      <td>6</td>\n",
       "      <td>5</td>\n",
       "      <td>False</td>\n",
       "      <td>False</td>\n",
       "    </tr>\n",
       "    <tr>\n",
       "      <th>1</th>\n",
       "      <td>2</td>\n",
       "      <td>2019-04-18</td>\n",
       "      <td>426</td>\n",
       "      <td>web scrapping</td>\n",
       "      <td>Fontes de dados</td>\n",
       "      <td>5</td>\n",
       "      <td>2</td>\n",
       "      <td>6</td>\n",
       "      <td>5</td>\n",
       "      <td>False</td>\n",
       "      <td>False</td>\n",
       "    </tr>\n",
       "    <tr>\n",
       "      <th>2</th>\n",
       "      <td>2</td>\n",
       "      <td>2019-04-18</td>\n",
       "      <td>426</td>\n",
       "      <td>fórmulas avançadas (IF. VLOOKUP. COUNTIFS. SUM...</td>\n",
       "      <td>Ferramenta</td>\n",
       "      <td>5</td>\n",
       "      <td>1</td>\n",
       "      <td>6</td>\n",
       "      <td>5</td>\n",
       "      <td>True</td>\n",
       "      <td>False</td>\n",
       "    </tr>\n",
       "    <tr>\n",
       "      <th>3</th>\n",
       "      <td>2</td>\n",
       "      <td>2019-04-18</td>\n",
       "      <td>426</td>\n",
       "      <td>lógica de programação</td>\n",
       "      <td>Lógica/Programação</td>\n",
       "      <td>5</td>\n",
       "      <td>1</td>\n",
       "      <td>6</td>\n",
       "      <td>5</td>\n",
       "      <td>False</td>\n",
       "      <td>False</td>\n",
       "    </tr>\n",
       "    <tr>\n",
       "      <th>4</th>\n",
       "      <td>2</td>\n",
       "      <td>2019-04-18</td>\n",
       "      <td>438</td>\n",
       "      <td>como capturar os dados (fontes de dados)</td>\n",
       "      <td>Fontes de dados</td>\n",
       "      <td>5</td>\n",
       "      <td>4</td>\n",
       "      <td>10</td>\n",
       "      <td>10</td>\n",
       "      <td>False</td>\n",
       "      <td>False</td>\n",
       "    </tr>\n",
       "  </tbody>\n",
       "</table>\n",
       "</div>"
      ],
      "text/plain": [
       "   turma       date  student  \\\n",
       "0      2 2019-04-18      426   \n",
       "1      2 2019-04-18      426   \n",
       "2      2 2019-04-18      426   \n",
       "3      2 2019-04-18      426   \n",
       "4      2 2019-04-18      438   \n",
       "\n",
       "                                             topicos           component  \\\n",
       "0           como capturar os dados (fontes de dados)     Fontes de dados   \n",
       "1                                      web scrapping     Fontes de dados   \n",
       "2  fórmulas avançadas (IF. VLOOKUP. COUNTIFS. SUM...          Ferramenta   \n",
       "3                              lógica de programação  Lógica/Programação   \n",
       "4           como capturar os dados (fontes de dados)     Fontes de dados   \n",
       "\n",
       "   relevance  learn  satisfaction  pace   tool  algorithm  \n",
       "0          5      1             6     5  False      False  \n",
       "1          5      2             6     5  False      False  \n",
       "2          5      1             6     5   True      False  \n",
       "3          5      1             6     5  False      False  \n",
       "4          5      4            10    10  False      False  "
      ]
     },
     "execution_count": 20,
     "metadata": {},
     "output_type": "execute_result"
    }
   ],
   "source": [
    "da = pd.read_csv('da_tidy.csv', parse_dates=['date'])\n",
    "da.head()"
   ]
  },
  {
   "cell_type": "code",
   "execution_count": 21,
   "metadata": {},
   "outputs": [],
   "source": [
    "da['lesson'] = da.date.astype(str) + '/' + da.turma.astype(str)"
   ]
  },
  {
   "cell_type": "code",
   "execution_count": 22,
   "metadata": {},
   "outputs": [],
   "source": [
    "da_1, da_2 = careful_split(da)"
   ]
  },
  {
   "cell_type": "markdown",
   "metadata": {},
   "source": [
    "### Hipótese 1: ferramenta"
   ]
  },
  {
   "cell_type": "code",
   "execution_count": 23,
   "metadata": {},
   "outputs": [],
   "source": [
    "da_tools = da_1[da_1.tool]\n",
    "da_ntools = da_1[~da_1.tool]"
   ]
  },
  {
   "cell_type": "code",
   "execution_count": 24,
   "metadata": {},
   "outputs": [
    {
     "name": "stdout",
     "output_type": "stream",
     "text": [
      "408\n",
      "1.8970588235294117\n",
      "1.1450958036250478\n",
      "0.11338137964322414\n"
     ]
    }
   ],
   "source": [
    "l_bar = da_tools.learn.mean()\n",
    "l_std = da_tools.learn.std()\n",
    "n = len(da_tools)\n",
    "\n",
    "print(n)\n",
    "print(l_bar)\n",
    "print(l_std)\n",
    "print(2 * l_std/np.sqrt(n))"
   ]
  },
  {
   "cell_type": "code",
   "execution_count": 25,
   "metadata": {},
   "outputs": [
    {
     "name": "stdout",
     "output_type": "stream",
     "text": [
      "1470\n",
      "1.5462585034013605\n",
      "1.0656958154085898\n",
      "0.05559101309887107\n"
     ]
    }
   ],
   "source": [
    "l_bar = da_ntools.learn.mean()\n",
    "l_std = da_ntools.learn.std()\n",
    "n = len(da_ntools)\n",
    "\n",
    "print(n)\n",
    "print(l_bar)\n",
    "print(l_std)\n",
    "print(2 * l_std/np.sqrt(n))"
   ]
  },
  {
   "cell_type": "code",
   "execution_count": 26,
   "metadata": {},
   "outputs": [
    {
     "data": {
      "text/plain": [
       "Text(0, 0.5, 'Ferramenta?')"
      ]
     },
     "execution_count": 26,
     "metadata": {},
     "output_type": "execute_result"
    },
    {
     "data": {
      "image/png": "[encoded data removed]",
      "text/plain": [
       "<Figure size 432x288 with 1 Axes>"
      ]
     },
     "metadata": {
      "needs_background": "light"
     },
     "output_type": "display_data"
    }
   ],
   "source": [
    "ax = sns.boxplot(x=\"learn\", y=\"tool\", orient=\"h\", palette=\"Set2\", showmeans=True, data=da_1)\n",
    "ax.set_title('Data Analytics')\n",
    "ax.set_xlabel('Aprendizagem')\n",
    "ax.set_ylabel('Ferramenta?')"
   ]
  },
  {
   "cell_type": "code",
   "execution_count": 27,
   "metadata": {},
   "outputs": [
    {
     "data": {
      "text/plain": [
       "Ttest_indResult(statistic=5.556076407480063, pvalue=4.1086992983044005e-08)"
      ]
     },
     "execution_count": 27,
     "metadata": {},
     "output_type": "execute_result"
    }
   ],
   "source": [
    "ttest_ind(da_tools.learn, da_ntools.learn, equal_var=False, nan_policy='omit')"
   ]
  },
  {
   "cell_type": "markdown",
   "metadata": {},
   "source": [
    "O teste t acima indica que de fato a percepção de aprendizagem para tópicos referentes a ferramentas, no curso de Data Analytics, é maior que nas aulas que não referem-se explicitamente a ferramentas. Vamos comparar os histogramas de cada caso, bem como uma estimativa da distribuição de probabilidade."
   ]
  },
  {
   "cell_type": "code",
   "execution_count": 28,
   "metadata": {},
   "outputs": [
    {
     "data": {
      "image/png": "[encoded data removed]",
      "text/plain": [
       "<Figure size 432x288 with 1 Axes>"
      ]
     },
     "metadata": {
      "needs_background": "light"
     },
     "output_type": "display_data"
    }
   ],
   "source": [
    "da_tools.learn.hist(density=True)\n",
    "da_tools.learn.plot.kde(bw_method=1)\n",
    "plt.title(\"Aprendizagem para aulas de ferramentas\");"
   ]
  },
  {
   "cell_type": "code",
   "execution_count": null,
   "metadata": {},
   "outputs": [],
   "source": [
    "da_ntools.learn.hist(density=True)\n",
    "da_ntools.learn.plot.kde(bw_method=1)\n",
    "plt.title(\"Aprendizagem para aulas conceituais\");"
   ]
  },
  {
   "cell_type": "markdown",
   "metadata": {},
   "source": [
    "### Hipótese 2: relevância\n",
    "\n",
    "A relevância média percebida pelo aluno é maior quando o componente de aprendizagem refere-se explicitamente a alguma ferramenta."
   ]
  },
  {
   "cell_type": "code",
   "execution_count": null,
   "metadata": {},
   "outputs": [],
   "source": [
    "ttest_ind(da_tools.relevance, da_ntools.relevance, equal_var=False, nan_policy='omit')"
   ]
  },
  {
   "cell_type": "code",
   "execution_count": null,
   "metadata": {},
   "outputs": [],
   "source": [
    "da_tools.relevance.hist(density=True)\n",
    "da_tools.relevance.plot.kde(bw_method=1)\n",
    "plt.title(\"Relevância para aulas de ferramentas\");"
   ]
  },
  {
   "cell_type": "code",
   "execution_count": null,
   "metadata": {},
   "outputs": [],
   "source": [
    "da_ntools.relevance.hist(density=True)\n",
    "da_ntools.relevance.plot.kde(bw_method=1)\n",
    "plt.title(\"Relevância para aulas conceituais\");"
   ]
  },
  {
   "cell_type": "code",
   "execution_count": 37,
   "metadata": {},
   "outputs": [
    {
     "data": {
      "text/plain": [
       "0"
      ]
     },
     "execution_count": 37,
     "metadata": {},
     "output_type": "execute_result"
    }
   ],
   "source": [
    "len(da[da.algorithm])"
   ]
  },
  {
   "cell_type": "code",
   "execution_count": null,
   "metadata": {},
   "outputs": [],
   "source": []
  }
 ],
 "metadata": {
  "kernelspec": {
   "display_name": "Python 3",
   "language": "python",
   "name": "python3"
  },
  "language_info": {
   "codemirror_mode": {
    "name": "ipython",
    "version": 3
   },
   "file_extension": ".py",
   "mimetype": "text/x-python",
   "name": "python",
   "nbconvert_exporter": "python",
   "pygments_lexer": "ipython3",
   "version": "3.8.5"
  }
 },
 "nbformat": 4,
 "nbformat_minor": 4
}
