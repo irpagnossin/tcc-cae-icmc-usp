{
 "cells": [
  {
   "cell_type": "code",
   "execution_count": 33,
   "metadata": {},
   "outputs": [],
   "source": [
    "import pandas as pd\n",
    "import numpy as np\n",
    "\n",
    "from sklearn.tree import DecisionTreeRegressor\n",
    "from sklearn.model_selection import GridSearchCV\n",
    "from careful_split import careful_split\n",
    "from helpers import my_train_test_split\n",
    "from sklearn.metrics import mean_squared_error\n",
    "import matplotlib.pyplot as plt\n",
    "from sklearn.metrics import r2_score, mean_squared_error, mean_absolute_error\n",
    "\n",
    "%matplotlib inline"
   ]
  },
  {
   "cell_type": "code",
   "execution_count": 23,
   "metadata": {},
   "outputs": [],
   "source": [
    "numerical_features = ['satisfaction']\n",
    "categorical_features = ['relevance', 'pace']\n",
    "predictors = numerical_features + categorical_features"
   ]
  },
  {
   "cell_type": "code",
   "execution_count": 24,
   "metadata": {},
   "outputs": [
    {
     "data": {
      "text/html": [
       "<div>\n",
       "<style scoped>\n",
       "    .dataframe tbody tr th:only-of-type {\n",
       "        vertical-align: middle;\n",
       "    }\n",
       "\n",
       "    .dataframe tbody tr th {\n",
       "        vertical-align: top;\n",
       "    }\n",
       "\n",
       "    .dataframe thead th {\n",
       "        text-align: right;\n",
       "    }\n",
       "</style>\n",
       "<table border=\"1\" class=\"dataframe\">\n",
       "  <thead>\n",
       "    <tr style=\"text-align: right;\">\n",
       "      <th></th>\n",
       "      <th>turma</th>\n",
       "      <th>date</th>\n",
       "      <th>student</th>\n",
       "      <th>topicos</th>\n",
       "      <th>component</th>\n",
       "      <th>relevance</th>\n",
       "      <th>learn</th>\n",
       "      <th>satisfaction</th>\n",
       "      <th>pace</th>\n",
       "      <th>tool</th>\n",
       "      <th>algorithm</th>\n",
       "    </tr>\n",
       "  </thead>\n",
       "  <tbody>\n",
       "    <tr>\n",
       "      <th>0</th>\n",
       "      <td>6</td>\n",
       "      <td>2019-04-18</td>\n",
       "      <td>25</td>\n",
       "      <td>aplicações de clusterização de dados</td>\n",
       "      <td>Agrupamento</td>\n",
       "      <td>4</td>\n",
       "      <td>1</td>\n",
       "      <td>6</td>\n",
       "      <td>5</td>\n",
       "      <td>False</td>\n",
       "      <td>False</td>\n",
       "    </tr>\n",
       "    <tr>\n",
       "      <th>1</th>\n",
       "      <td>6</td>\n",
       "      <td>2019-04-18</td>\n",
       "      <td>25</td>\n",
       "      <td>MeanShift e DBSCAN</td>\n",
       "      <td>Agrupamento/Algoritmo/ML</td>\n",
       "      <td>4</td>\n",
       "      <td>2</td>\n",
       "      <td>6</td>\n",
       "      <td>5</td>\n",
       "      <td>False</td>\n",
       "      <td>True</td>\n",
       "    </tr>\n",
       "    <tr>\n",
       "      <th>2</th>\n",
       "      <td>6</td>\n",
       "      <td>2019-04-18</td>\n",
       "      <td>47</td>\n",
       "      <td>aplicações de clusterização de dados</td>\n",
       "      <td>Agrupamento</td>\n",
       "      <td>5</td>\n",
       "      <td>1</td>\n",
       "      <td>7</td>\n",
       "      <td>7</td>\n",
       "      <td>False</td>\n",
       "      <td>False</td>\n",
       "    </tr>\n",
       "    <tr>\n",
       "      <th>3</th>\n",
       "      <td>6</td>\n",
       "      <td>2019-04-18</td>\n",
       "      <td>47</td>\n",
       "      <td>MeanShift e DBSCAN</td>\n",
       "      <td>Agrupamento/Algoritmo/ML</td>\n",
       "      <td>5</td>\n",
       "      <td>2</td>\n",
       "      <td>7</td>\n",
       "      <td>7</td>\n",
       "      <td>False</td>\n",
       "      <td>True</td>\n",
       "    </tr>\n",
       "    <tr>\n",
       "      <th>4</th>\n",
       "      <td>6</td>\n",
       "      <td>2019-04-18</td>\n",
       "      <td>32</td>\n",
       "      <td>aplicações de clusterização de dados</td>\n",
       "      <td>Agrupamento</td>\n",
       "      <td>4</td>\n",
       "      <td>1</td>\n",
       "      <td>5</td>\n",
       "      <td>7</td>\n",
       "      <td>False</td>\n",
       "      <td>False</td>\n",
       "    </tr>\n",
       "  </tbody>\n",
       "</table>\n",
       "</div>"
      ],
      "text/plain": [
       "   turma       date  student                               topicos  \\\n",
       "0      6 2019-04-18       25  aplicações de clusterização de dados   \n",
       "1      6 2019-04-18       25                    MeanShift e DBSCAN   \n",
       "2      6 2019-04-18       47  aplicações de clusterização de dados   \n",
       "3      6 2019-04-18       47                    MeanShift e DBSCAN   \n",
       "4      6 2019-04-18       32  aplicações de clusterização de dados   \n",
       "\n",
       "                  component  relevance  learn  satisfaction  pace   tool  \\\n",
       "0               Agrupamento          4      1             6     5  False   \n",
       "1  Agrupamento/Algoritmo/ML          4      2             6     5  False   \n",
       "2               Agrupamento          5      1             7     7  False   \n",
       "3  Agrupamento/Algoritmo/ML          5      2             7     7  False   \n",
       "4               Agrupamento          4      1             5     7  False   \n",
       "\n",
       "   algorithm  \n",
       "0      False  \n",
       "1       True  \n",
       "2      False  \n",
       "3       True  \n",
       "4      False  "
      ]
     },
     "execution_count": 24,
     "metadata": {},
     "output_type": "execute_result"
    }
   ],
   "source": [
    "ds = pd.read_csv('ds_tidy.csv', parse_dates=['date'])\n",
    "ds.head()"
   ]
  },
  {
   "cell_type": "code",
   "execution_count": 25,
   "metadata": {},
   "outputs": [],
   "source": [
    "ds['lesson'] = ds.date.astype(str) + '/' + ds.turma.astype(str)"
   ]
  },
  {
   "cell_type": "code",
   "execution_count": 26,
   "metadata": {},
   "outputs": [],
   "source": [
    "subset_1, subset_2 = careful_split(ds)"
   ]
  },
  {
   "cell_type": "code",
   "execution_count": 27,
   "metadata": {},
   "outputs": [],
   "source": [
    "data_train, data_test = my_train_test_split(subset_1)"
   ]
  },
  {
   "cell_type": "code",
   "execution_count": 28,
   "metadata": {},
   "outputs": [],
   "source": [
    "dummies = pd.get_dummies(data_train[categorical_features].astype(str), drop_first=True)\n",
    "features = pd.concat([data_train[numerical_features], dummies], axis=1)"
   ]
  },
  {
   "cell_type": "code",
   "execution_count": 29,
   "metadata": {},
   "outputs": [],
   "source": [
    "X_train = features.to_numpy()\n",
    "y_train = data_train.learn.to_numpy()\n",
    "\n",
    "X_test = features.to_numpy()\n",
    "y_test = data_train.learn.to_numpy()"
   ]
  },
  {
   "cell_type": "code",
   "execution_count": 30,
   "metadata": {},
   "outputs": [],
   "source": [
    "params = {\n",
    "    'max_depth': np.linspace(10, 100, 5),\n",
    "    'min_samples_split': [2,3,4]\n",
    "}\n",
    "\n",
    "regressor = GridSearchCV(DecisionTreeRegressor(random_state=42), params)\n",
    "model = regressor.fit(X_train, y_train)"
   ]
  },
  {
   "cell_type": "code",
   "execution_count": 31,
   "metadata": {},
   "outputs": [],
   "source": [
    "y_pred = model.predict(X_test)"
   ]
  },
  {
   "cell_type": "code",
   "execution_count": 35,
   "metadata": {},
   "outputs": [],
   "source": [
    "def r2_adjusted(r2, n, p):\n",
    "    return 1 - (1 - r2) * (n-1) / (n-p-1)"
   ]
  },
  {
   "cell_type": "code",
   "execution_count": 36,
   "metadata": {},
   "outputs": [
    {
     "name": "stdout",
     "output_type": "stream",
     "text": [
      "MSE: 0.6002385786880667\n",
      "RMSE: 0.7747506558164806\n",
      "MAE: 0.5958716727113171\n",
      "R2: 0.18073884774149307\n",
      "R2 ajustado: 0.17874064980915527\n"
     ]
    }
   ],
   "source": [
    "mse = mean_squared_error(y_test, y_pred)\n",
    "print(f'MSE: {mse}')\n",
    "\n",
    "rmse = mean_squared_error(y_test, y_pred, squared=False)\n",
    "print(f'RMSE: {rmse}')\n",
    "\n",
    "mae = mean_absolute_error(y_test, y_pred)\n",
    "print(f'MAE: {mae}')\n",
    "\n",
    "r2 = r2_score(y_test, y_pred)\n",
    "print(f'R2: {r2}')\n",
    "\n",
    "n = len(y_test)\n",
    "print(f'R2 ajustado: {r2_adjusted(r2, n, 3)}')"
   ]
  },
  {
   "cell_type": "code",
   "execution_count": null,
   "metadata": {},
   "outputs": [],
   "source": []
  }
 ],
 "metadata": {
  "kernelspec": {
   "display_name": "Python 3",
   "language": "python",
   "name": "python3"
  },
  "language_info": {
   "codemirror_mode": {
    "name": "ipython",
    "version": 3
   },
   "file_extension": ".py",
   "mimetype": "text/x-python",
   "name": "python",
   "nbconvert_exporter": "python",
   "pygments_lexer": "ipython3",
   "version": "3.8.5"
  }
 },
 "nbformat": 4,
 "nbformat_minor": 4
}
